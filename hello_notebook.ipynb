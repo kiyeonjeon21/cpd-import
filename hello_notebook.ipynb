{
 "cells": [
  {
   "cell_type": "markdown",
   "id": "b3b26080-f143-4117-a0a9-1b7c26d937e3",
   "metadata": {
    "id": "b3b26080-f143-4117-a0a9-1b7c26d937e3"
   },
   "source": [
    "# Hello Notebook\n",
    "A simple notebook to print a greeting."
   ]
  },
  {
   "cell_type": "code",
   "execution_count": 1,
   "id": "adf634d2-3f59-4493-9850-49291c923d6d",
   "metadata": {
    "id": "adf634d2-3f59-4493-9850-49291c923d6d"
   },
   "outputs": [
    {
     "name": "stdout",
     "output_type": "stream",
     "text": [
      "Hello, Deployment Space!\n"
     ]
    }
   ],
   "source": [
    "print('Hello, Deployment Space!')"
   ]
  },
  {
   "cell_type": "code",
   "execution_count": null,
   "id": "83689f52-802b-405f-af35-f2a292cbec81",
   "metadata": {
    "id": "83689f52-802b-405f-af35-f2a292cbec81"
   },
   "outputs": [],
   "source": []
  }
 ],
 "metadata": {
  "kernelspec": {
   "display_name": "Python 3.11",
   "language": "python",
   "name": "python3"
  },
  "language_info": {
   "codemirror_mode": {
    "name": "ipython",
    "version": 3
   },
   "file_extension": ".py",
   "mimetype": "text/x-python",
   "name": "python",
   "nbconvert_exporter": "python",
   "pygments_lexer": "ipython3",
   "version": "3.11.9"
  }
 },
 "nbformat": 4,
 "nbformat_minor": 5
}
